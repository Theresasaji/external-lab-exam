{
 "cells": [
  {
   "cell_type": "code",
   "execution_count": 28,
   "id": "bcc7f8a2",
   "metadata": {},
   "outputs": [],
   "source": [
    "import numpy as np\n",
    "import matplotlib.pyplot as plt\n",
    "import pandas as pd"
   ]
  },
  {
   "cell_type": "code",
   "execution_count": 58,
   "id": "0608dc80",
   "metadata": {},
   "outputs": [
    {
     "data": {
      "text/html": [
       "<div>\n",
       "<style scoped>\n",
       "    .dataframe tbody tr th:only-of-type {\n",
       "        vertical-align: middle;\n",
       "    }\n",
       "\n",
       "    .dataframe tbody tr th {\n",
       "        vertical-align: top;\n",
       "    }\n",
       "\n",
       "    .dataframe thead th {\n",
       "        text-align: right;\n",
       "    }\n",
       "</style>\n",
       "<table border=\"1\" class=\"dataframe\">\n",
       "  <thead>\n",
       "    <tr style=\"text-align: right;\">\n",
       "      <th></th>\n",
       "      <th>sepal.length</th>\n",
       "      <th>sepal.width</th>\n",
       "      <th>petal.length</th>\n",
       "      <th>petal.width</th>\n",
       "      <th>variety</th>\n",
       "    </tr>\n",
       "  </thead>\n",
       "  <tbody>\n",
       "    <tr>\n",
       "      <th>0</th>\n",
       "      <td>5.1</td>\n",
       "      <td>3.5</td>\n",
       "      <td>1.4</td>\n",
       "      <td>0.2</td>\n",
       "      <td>Setosa</td>\n",
       "    </tr>\n",
       "    <tr>\n",
       "      <th>1</th>\n",
       "      <td>4.9</td>\n",
       "      <td>3.0</td>\n",
       "      <td>1.4</td>\n",
       "      <td>0.2</td>\n",
       "      <td>Setosa</td>\n",
       "    </tr>\n",
       "    <tr>\n",
       "      <th>2</th>\n",
       "      <td>4.7</td>\n",
       "      <td>3.2</td>\n",
       "      <td>1.3</td>\n",
       "      <td>0.2</td>\n",
       "      <td>Setosa</td>\n",
       "    </tr>\n",
       "    <tr>\n",
       "      <th>3</th>\n",
       "      <td>4.6</td>\n",
       "      <td>3.1</td>\n",
       "      <td>1.5</td>\n",
       "      <td>0.2</td>\n",
       "      <td>Setosa</td>\n",
       "    </tr>\n",
       "    <tr>\n",
       "      <th>4</th>\n",
       "      <td>5.0</td>\n",
       "      <td>3.6</td>\n",
       "      <td>1.4</td>\n",
       "      <td>0.2</td>\n",
       "      <td>Setosa</td>\n",
       "    </tr>\n",
       "  </tbody>\n",
       "</table>\n",
       "</div>"
      ],
      "text/plain": [
       "   sepal.length  sepal.width  petal.length  petal.width variety\n",
       "0           5.1          3.5           1.4          0.2  Setosa\n",
       "1           4.9          3.0           1.4          0.2  Setosa\n",
       "2           4.7          3.2           1.3          0.2  Setosa\n",
       "3           4.6          3.1           1.5          0.2  Setosa\n",
       "4           5.0          3.6           1.4          0.2  Setosa"
      ]
     },
     "execution_count": 58,
     "metadata": {},
     "output_type": "execute_result"
    }
   ],
   "source": [
    "dataset=pd.read_csv('iris.csv')\n",
    "X=dataset.iloc[:,:4].values\n",
    "y=dataset['variety'].values\n",
    "dataset.head()"
   ]
  },
  {
   "cell_type": "code",
   "execution_count": 60,
   "id": "86fb55a0",
   "metadata": {},
   "outputs": [
    {
     "name": "stdout",
     "output_type": "stream",
     "text": [
      "Collecting sklearn\n",
      "  Downloading sklearn-0.0.tar.gz (1.1 kB)\n",
      "Requirement already satisfied: scikit-learn in ./anaconda3/lib/python3.9/site-packages (from sklearn) (0.24.2)\n",
      "Requirement already satisfied: numpy>=1.13.3 in ./anaconda3/lib/python3.9/site-packages (from scikit-learn->sklearn) (1.20.3)\n",
      "Requirement already satisfied: scipy>=0.19.1 in ./anaconda3/lib/python3.9/site-packages (from scikit-learn->sklearn) (1.7.1)\n",
      "Requirement already satisfied: threadpoolctl>=2.0.0 in ./anaconda3/lib/python3.9/site-packages (from scikit-learn->sklearn) (2.2.0)\n",
      "Requirement already satisfied: joblib>=0.11 in ./anaconda3/lib/python3.9/site-packages (from scikit-learn->sklearn) (1.1.0)\n",
      "Building wheels for collected packages: sklearn\n",
      "  Building wheel for sklearn (setup.py) ... \u001b[?25ldone\n",
      "\u001b[?25h  Created wheel for sklearn: filename=sklearn-0.0-py2.py3-none-any.whl size=1309 sha256=c85e88bc7c1b4d65a7ebc42d810dd1becff84702943b747adb37b1fbce4bb706\n",
      "  Stored in directory: /home/sjcet/.cache/pip/wheels/e4/7b/98/b6466d71b8d738a0c547008b9eb39bf8676d1ff6ca4b22af1c\n",
      "Successfully built sklearn\n",
      "Installing collected packages: sklearn\n",
      "Successfully installed sklearn-0.0\n",
      "Note: you may need to restart the kernel to use updated packages.\n"
     ]
    }
   ],
   "source": [
    "pip install sklearn"
   ]
  },
  {
   "cell_type": "code",
   "execution_count": 67,
   "id": "f3a1186c",
   "metadata": {},
   "outputs": [],
   "source": [
    "from sklearn.model_selection import train_test_split\n",
    "X_train,X_test, y_train, y_test=train_test_split ( X,y, test_size=0.20)"
   ]
  },
  {
   "cell_type": "code",
   "execution_count": 68,
   "id": "8de9bfd9",
   "metadata": {},
   "outputs": [
    {
     "name": "stdout",
     "output_type": "stream",
     "text": [
      "[[5.5 3.5 1.3 0.2]\n",
      " [6.3 2.5 5.  1.9]\n",
      " [5.5 2.5 4.  1.3]\n",
      " [5.7 2.8 4.5 1.3]\n",
      " [6.3 2.7 4.9 1.8]\n",
      " [5.2 4.1 1.5 0.1]\n",
      " [5.7 2.5 5.  2. ]\n",
      " [7.2 3.2 6.  1.8]\n",
      " [6.7 3.  5.  1.7]\n",
      " [5.6 2.8 4.9 2. ]\n",
      " [5.  3.5 1.3 0.3]\n",
      " [5.  3.6 1.4 0.2]\n",
      " [5.3 3.7 1.5 0.2]\n",
      " [6.3 2.8 5.1 1.5]\n",
      " [6.3 2.9 5.6 1.8]\n",
      " [5.5 4.2 1.4 0.2]\n",
      " [6.1 2.9 4.7 1.4]\n",
      " [5.1 3.8 1.5 0.3]\n",
      " [6.9 3.1 5.1 2.3]\n",
      " [6.  3.4 4.5 1.6]\n",
      " [4.4 3.  1.3 0.2]\n",
      " [5.7 3.  4.2 1.2]\n",
      " [5.1 3.8 1.6 0.2]\n",
      " [5.8 2.7 3.9 1.2]\n",
      " [6.7 3.1 5.6 2.4]\n",
      " [5.4 3.4 1.7 0.2]\n",
      " [4.7 3.2 1.6 0.2]\n",
      " [5.  3.4 1.6 0.4]\n",
      " [6.8 2.8 4.8 1.4]\n",
      " [6.1 2.8 4.7 1.2]\n",
      " [5.  3.2 1.2 0.2]\n",
      " [6.  2.7 5.1 1.6]\n",
      " [4.9 3.6 1.4 0.1]\n",
      " [7.2 3.  5.8 1.6]\n",
      " [5.8 2.7 5.1 1.9]\n",
      " [5.  3.4 1.5 0.2]\n",
      " [7.6 3.  6.6 2.1]\n",
      " [6.1 3.  4.6 1.4]\n",
      " [5.8 2.6 4.  1.2]\n",
      " [6.5 3.2 5.1 2. ]\n",
      " [5.6 2.7 4.2 1.3]\n",
      " [6.3 2.5 4.9 1.5]\n",
      " [6.6 2.9 4.6 1.3]\n",
      " [7.9 3.8 6.4 2. ]\n",
      " [5.5 2.4 3.7 1. ]\n",
      " [4.3 3.  1.1 0.1]\n",
      " [5.4 3.4 1.5 0.4]\n",
      " [5.  3.  1.6 0.2]\n",
      " [5.5 2.4 3.8 1.1]\n",
      " [4.9 3.1 1.5 0.2]\n",
      " [6.7 3.1 4.7 1.5]\n",
      " [6.4 3.1 5.5 1.8]\n",
      " [5.5 2.3 4.  1.3]\n",
      " [5.7 2.9 4.2 1.3]\n",
      " [4.7 3.2 1.3 0.2]\n",
      " [5.6 2.5 3.9 1.1]\n",
      " [5.1 3.7 1.5 0.4]\n",
      " [7.7 2.6 6.9 2.3]\n",
      " [6.8 3.  5.5 2.1]\n",
      " [6.7 3.3 5.7 2.5]\n",
      " [4.6 3.1 1.5 0.2]\n",
      " [6.7 2.5 5.8 1.8]\n",
      " [6.5 2.8 4.6 1.5]\n",
      " [5.8 2.7 4.1 1. ]\n",
      " [5.2 2.7 3.9 1.4]\n",
      " [5.  2.3 3.3 1. ]\n",
      " [4.4 2.9 1.4 0.2]\n",
      " [5.  2.  3.5 1. ]\n",
      " [5.4 3.7 1.5 0.2]\n",
      " [5.4 3.9 1.3 0.4]\n",
      " [6.3 3.3 4.7 1.6]\n",
      " [5.7 2.6 3.5 1. ]\n",
      " [6.5 3.  5.2 2. ]\n",
      " [6.3 3.3 6.  2.5]\n",
      " [4.4 3.2 1.3 0.2]\n",
      " [5.7 2.8 4.1 1.3]\n",
      " [6.2 2.8 4.8 1.8]\n",
      " [6.5 3.  5.5 1.8]\n",
      " [5.9 3.  5.1 1.8]\n",
      " [7.2 3.6 6.1 2.5]\n",
      " [5.6 3.  4.1 1.3]\n",
      " [6.1 3.  4.9 1.8]\n",
      " [6.4 3.2 5.3 2.3]\n",
      " [6.7 3.3 5.7 2.1]\n",
      " [6.3 2.3 4.4 1.3]\n",
      " [6.9 3.1 4.9 1.5]\n",
      " [5.2 3.4 1.4 0.2]\n",
      " [6.4 2.8 5.6 2.2]\n",
      " [7.7 2.8 6.7 2. ]\n",
      " [6.9 3.1 5.4 2.1]\n",
      " [5.1 3.8 1.9 0.4]\n",
      " [5.1 3.5 1.4 0.3]\n",
      " [6.9 3.2 5.7 2.3]\n",
      " [6.4 3.2 4.5 1.5]\n",
      " [6.2 2.2 4.5 1.5]\n",
      " [5.4 3.  4.5 1.5]\n",
      " [5.8 4.  1.2 0.2]\n",
      " [4.9 3.1 1.5 0.1]\n",
      " [6.  2.2 4.  1. ]\n",
      " [6.  2.9 4.5 1.5]\n",
      " [7.7 3.8 6.7 2.2]\n",
      " [5.4 3.9 1.7 0.4]\n",
      " [7.  3.2 4.7 1.4]\n",
      " [5.7 3.8 1.7 0.3]\n",
      " [6.7 3.1 4.4 1.4]\n",
      " [7.4 2.8 6.1 1.9]\n",
      " [4.9 2.5 4.5 1.7]\n",
      " [6.2 2.9 4.3 1.3]\n",
      " [5.1 3.3 1.7 0.5]\n",
      " [4.8 3.4 1.6 0.2]\n",
      " [4.8 3.1 1.6 0.2]\n",
      " [6.4 2.9 4.3 1.3]\n",
      " [5.  3.5 1.6 0.6]\n",
      " [5.5 2.6 4.4 1.2]\n",
      " [5.8 2.7 5.1 1.9]\n",
      " [7.7 3.  6.1 2.3]\n",
      " [6.  3.  4.8 1.8]\n",
      " [4.9 3.  1.4 0.2]\n",
      " [5.1 3.5 1.4 0.2]\n",
      " [5.2 3.5 1.5 0.2]]\n"
     ]
    }
   ],
   "source": [
    "print(X_train)"
   ]
  },
  {
   "cell_type": "code",
   "execution_count": 69,
   "id": "4be1f31a",
   "metadata": {},
   "outputs": [
    {
     "name": "stdout",
     "output_type": "stream",
     "text": [
      "['Setosa' 'Virginica' 'Versicolor' 'Versicolor' 'Virginica' 'Setosa'\n",
      " 'Virginica' 'Virginica' 'Versicolor' 'Virginica' 'Setosa' 'Setosa'\n",
      " 'Setosa' 'Virginica' 'Virginica' 'Setosa' 'Versicolor' 'Setosa'\n",
      " 'Virginica' 'Versicolor' 'Setosa' 'Versicolor' 'Setosa' 'Versicolor'\n",
      " 'Virginica' 'Setosa' 'Setosa' 'Setosa' 'Versicolor' 'Versicolor' 'Setosa'\n",
      " 'Versicolor' 'Setosa' 'Virginica' 'Virginica' 'Setosa' 'Virginica'\n",
      " 'Versicolor' 'Versicolor' 'Virginica' 'Versicolor' 'Versicolor'\n",
      " 'Versicolor' 'Virginica' 'Versicolor' 'Setosa' 'Setosa' 'Setosa'\n",
      " 'Versicolor' 'Setosa' 'Versicolor' 'Virginica' 'Versicolor' 'Versicolor'\n",
      " 'Setosa' 'Versicolor' 'Setosa' 'Virginica' 'Virginica' 'Virginica'\n",
      " 'Setosa' 'Virginica' 'Versicolor' 'Versicolor' 'Versicolor' 'Versicolor'\n",
      " 'Setosa' 'Versicolor' 'Setosa' 'Setosa' 'Versicolor' 'Versicolor'\n",
      " 'Virginica' 'Virginica' 'Setosa' 'Versicolor' 'Virginica' 'Virginica'\n",
      " 'Virginica' 'Virginica' 'Versicolor' 'Virginica' 'Virginica' 'Virginica'\n",
      " 'Versicolor' 'Versicolor' 'Setosa' 'Virginica' 'Virginica' 'Virginica'\n",
      " 'Setosa' 'Setosa' 'Virginica' 'Versicolor' 'Versicolor' 'Versicolor'\n",
      " 'Setosa' 'Setosa' 'Versicolor' 'Versicolor' 'Virginica' 'Setosa'\n",
      " 'Versicolor' 'Setosa' 'Versicolor' 'Virginica' 'Virginica' 'Versicolor'\n",
      " 'Setosa' 'Setosa' 'Setosa' 'Versicolor' 'Setosa' 'Versicolor' 'Virginica'\n",
      " 'Virginica' 'Virginica' 'Setosa' 'Setosa' 'Setosa']\n"
     ]
    }
   ],
   "source": [
    "print(y_train)"
   ]
  },
  {
   "cell_type": "code",
   "execution_count": 98,
   "id": "92115223",
   "metadata": {},
   "outputs": [
    {
     "ename": "ImportError",
     "evalue": "cannot import name 'Gaussian' from 'sklearn.naive_bayes' (/home/sjcet/anaconda3/lib/python3.9/site-packages/sklearn/naive_bayes.py)",
     "output_type": "error",
     "traceback": [
      "\u001b[0;31m---------------------------------------------------------------------------\u001b[0m",
      "\u001b[0;31mImportError\u001b[0m                               Traceback (most recent call last)",
      "\u001b[0;32m/tmp/ipykernel_5853/1425524232.py\u001b[0m in \u001b[0;36m<module>\u001b[0;34m\u001b[0m\n\u001b[0;32m----> 1\u001b[0;31m \u001b[0;32mfrom\u001b[0m \u001b[0msklearn\u001b[0m\u001b[0;34m.\u001b[0m\u001b[0mnaive_bayes\u001b[0m \u001b[0;32mimport\u001b[0m \u001b[0mGaussian\u001b[0m\u001b[0;34m\u001b[0m\u001b[0;34m\u001b[0m\u001b[0m\n\u001b[0m\u001b[1;32m      2\u001b[0m \u001b[0mclassifier\u001b[0m\u001b[0;34m=\u001b[0m\u001b[0mGaussian\u001b[0m\u001b[0;34m(\u001b[0m\u001b[0;34m)\u001b[0m\u001b[0;34m\u001b[0m\u001b[0;34m\u001b[0m\u001b[0m\n\u001b[1;32m      3\u001b[0m \u001b[0mclassifier\u001b[0m\u001b[0;34m.\u001b[0m\u001b[0mfit\u001b[0m\u001b[0;34m(\u001b[0m\u001b[0mX_train\u001b[0m\u001b[0;34m,\u001b[0m\u001b[0my_train\u001b[0m\u001b[0;34m)\u001b[0m\u001b[0;34m\u001b[0m\u001b[0;34m\u001b[0m\u001b[0m\n\u001b[1;32m      4\u001b[0m \u001b[0my_pred\u001b[0m\u001b[0;34m=\u001b[0m\u001b[0mclassifier\u001b[0m\u001b[0;34m.\u001b[0m\u001b[0mpredict\u001b[0m\u001b[0;34m(\u001b[0m\u001b[0mX_test\u001b[0m\u001b[0;34m)\u001b[0m\u001b[0;34m\u001b[0m\u001b[0;34m\u001b[0m\u001b[0m\n\u001b[1;32m      5\u001b[0m \u001b[0;32mfrom\u001b[0m \u001b[0msklearn\u001b[0m\u001b[0;34m.\u001b[0m\u001b[0mmetrics\u001b[0m \u001b[0;32mimport\u001b[0m \u001b[0maccuracy_score\u001b[0m\u001b[0;34m\u001b[0m\u001b[0;34m\u001b[0m\u001b[0m\n",
      "\u001b[0;31mImportError\u001b[0m: cannot import name 'Gaussian' from 'sklearn.naive_bayes' (/home/sjcet/anaconda3/lib/python3.9/site-packages/sklearn/naive_bayes.py)"
     ]
    }
   ],
   "source": [
    "from sklearn.naive_bayes import Gaussian\n",
    "classifier=Gaussian()\n",
    "classifier.fit(X_train,y_train)\n",
    "y_pred=classifier.predict(X_test)\n",
    "from sklearn.metrics import accuracy_score\n",
    "print(\"accuracy\",accuracy_score(y_test,y_pred))"
   ]
  },
  {
   "cell_type": "code",
   "execution_count": null,
   "id": "d1e8deff",
   "metadata": {},
   "outputs": [],
   "source": []
  }
 ],
 "metadata": {
  "kernelspec": {
   "display_name": "Python 3 (ipykernel)",
   "language": "python",
   "name": "python3"
  },
  "language_info": {
   "codemirror_mode": {
    "name": "ipython",
    "version": 3
   },
   "file_extension": ".py",
   "mimetype": "text/x-python",
   "name": "python",
   "nbconvert_exporter": "python",
   "pygments_lexer": "ipython3",
   "version": "3.9.7"
  }
 },
 "nbformat": 4,
 "nbformat_minor": 5
}
